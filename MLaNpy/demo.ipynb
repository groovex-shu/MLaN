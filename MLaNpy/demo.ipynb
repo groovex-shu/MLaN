{
 "cells": [
  {
   "cell_type": "markdown",
   "id": "2646c482",
   "metadata": {},
   "source": [
    "## Test slam_manager"
   ]
  },
  {
   "cell_type": "code",
   "execution_count": 1,
   "id": "1b5d7ebf",
   "metadata": {},
   "outputs": [
    {
     "name": "stdout",
     "output_type": "stream",
     "text": [
      "Environment variable set: /home/gx-shu/My/lovot-locxxx/MLaN/runtime/data/localization\n"
     ]
    }
   ],
   "source": [
    "import os\n",
    "from pathlib import Path\n",
    "home = os.path.expanduser(\"~\")\n",
    "os.environ['LOCALIZATION_DATA_PATH'] = f'{home}/My/lovot-locxxx/MLaN/runtime/data/localization'\n",
    "\n",
    "print(f\"Environment variable set: {os.environ['LOCALIZATION_DATA_PATH']}\")\n",
    "assert Path(os.environ['LOCALIZATION_DATA_PATH']).exists()\n",
    "\n",
    "# from importlib import reload"
   ]
  },
  {
   "cell_type": "code",
   "execution_count": 2,
   "id": "3611709d",
   "metadata": {},
   "outputs": [],
   "source": [
    "from lovot_slam.slam_manager import SlamManager\n",
    "from contextlib import AsyncExitStack\n",
    "import anyio\n",
    "\n",
    "# Create a minimal test subclass\n",
    "class TestSlamManager(SlamManager):\n",
    "    async def process_command(self, req: str):\n",
    "        print(f\"Command: {req}\")\n",
    "    \n",
    "    async def _run_main(self):\n",
    "        print(\"Main running...\")\n",
    "        await anyio.sleep(1)\n",
    "    \n",
    "    async def _stop(self):\n",
    "        print(\"Stopping...\")\n",
    "    \n",
    "    async def _setup_context(self, stack: AsyncExitStack):\n",
    "        print(\"Setup context\")\n"
   ]
  },
  {
   "cell_type": "code",
   "execution_count": 3,
   "id": "eef79a80",
   "metadata": {},
   "outputs": [
    {
     "name": "stdout",
     "output_type": "stream",
     "text": [
      "✓ SlamManager instantiated successfully\n",
      "Ghost ID: bobu0be0p7n5c1bjsnm0\n",
      "Parsed: cmd=test_cmd, id=123, args=['arg1', 'arg2']\n"
     ]
    }
   ],
   "source": [
    "# Test instantiation\n",
    "manager = TestSlamManager(debug=True)\n",
    "print(\"✓ SlamManager instantiated successfully\")\n",
    "print(f\"Ghost ID: {manager.ghost_id}\")\n",
    "\n",
    "# Test parse_request\n",
    "cmd, req_id, args = manager.parse_request(\"test_cmd 123 arg1 arg2\")\n",
    "print(f\"Parsed: cmd={cmd}, id={req_id}, args={args}\")\n"
   ]
  },
  {
   "cell_type": "code",
   "execution_count": null,
   "id": "95a49ace",
   "metadata": {},
   "outputs": [
    {
     "name": "stdout",
     "output_type": "stream",
     "text": [
      "✓ Redis configured for Shaun/Lovot model with map building enabled\n",
      "PARAM_DISABLE_REMOVING_FILES = False\n"
     ]
    }
   ],
   "source": [
    "from lovot_slam.redis.clients import create_device_client, create_stm_client, create_ltm_client\n",
    "\n",
    "# Set the debug flag FIRST (before importing debug_params)\n",
    "ltm_client = create_ltm_client()\n",
    "ltm_client.set(\"slam:debug:disable_removing_files\", \"true\")\n",
    "print(\"✓ Debug flag set in Redis\")\n",
    "\n",
    "# Setup Shaun/Lovot model (lv101)\n",
    "device_client = create_device_client()\n",
    "device_client.set('robot:model', 'lv101')\n",
    "\n",
    "# Setup Redis state for map building\n",
    "stm_client = create_stm_client()\n",
    "stm_client.set('neodm:physical_state', 'ON_NEST')\n",
    "stm_client.set('neodm:intention', 'INFINITE_EXPLORE')\n",
    "\n",
    "# Also set ghost status and repair flag\n",
    "stm_client.set('cloud:ghost:status', 'identified')\n",
    "stm_client.set('under_repair', '0')\n",
    "\n",
    "print(\"✓ Redis configured for Shaun/Lovot model with map building enabled\")\n",
    "\n",
    "# NOW reload the debug_params module to pick up the Redis value\n",
    "from importlib import reload\n",
    "import lovot_slam.flags.debug_params\n",
    "reload(lovot_slam.flags.debug_params)\n",
    "\n",
    "from lovot_slam.flags.debug_params import PARAM_DISABLE_REMOVING_FILES\n",
    "print(f\"PARAM_DISABLE_REMOVING_FILES = {PARAM_DISABLE_REMOVING_FILES}\")\n",
    "\n"
   ]
  },
  {
   "cell_type": "code",
   "execution_count": 5,
   "id": "c557e6fb",
   "metadata": {},
   "outputs": [
    {
     "name": "stderr",
     "output_type": "stream",
     "text": [
      "falling back to lovot model: LovotModel.LV101\n"
     ]
    },
    {
     "name": "stdout",
     "output_type": "stream",
     "text": [
      "Instantiating NestSlamManager...\n",
      "✓ NestSlamManager instantiated successfully\n",
      "Ghost ID: bobu0be0p7n5c1bjsnm0\n",
      "Model: LovotModel.LV101\n",
      "Can build map (before run): False\n",
      "Waiting for _can_build_map to become True...\n",
      "✓ Can build map became True after 0.5 seconds\n",
      "Can build map (after run): True\n",
      "Running for 5 more seconds...\n",
      "Cancelling task group...\n",
      "Test completed\n"
     ]
    }
   ],
   "source": [
    "from lovot_slam.nest_slam_manager import NestSlamManager\n",
    "from lovot_slam.map_build.request_queue import BuildSingleMapOption, RequestTypes\n",
    "import anyio\n",
    "\n",
    "async def test_nest_slam_manager():\n",
    "    print(\"Instantiating NestSlamManager...\")\n",
    "    manager = None\n",
    "    try:\n",
    "        manager = NestSlamManager(debug=True)\n",
    "        print(\"✓ NestSlamManager instantiated successfully\")\n",
    "        print(f\"Ghost ID: {manager.ghost_id}\")\n",
    "        print(f\"Model: {manager._model}\")\n",
    "        print(f\"Can build map (before run): {manager._can_build_map}\")\n",
    "\n",
    "          # Start the manager in the background with timeout\n",
    "        with anyio.fail_after(30):  # 30 second timeout\n",
    "            async with anyio.create_task_group() as tg:\n",
    "                tg.start_soon(manager.run)\n",
    "\n",
    "                  # Wait for _can_build_map to become True (poll every 0.5s)\n",
    "                print(\"Waiting for _can_build_map to become True...\")\n",
    "                for i in range(20):  # Wait up to 10 seconds\n",
    "                    await anyio.sleep(0.5)\n",
    "                    if manager._can_build_map:\n",
    "                        print(f\"✓ Can build map became True after {(i+1)*0.5:.1f} seconds\")\n",
    "                        break\n",
    "                else:\n",
    "                    print(\"⚠ Timeout waiting for _can_build_map\")\n",
    "\n",
    "                print(f\"Can build map (after run): {manager._can_build_map}\")\n",
    "\n",
    "                # Now you can push build requests\n",
    "                # Example: manager.requests.push(RequestTypes.BuildMap, BuildSingleMapOption('20000101_000000'))\n",
    "\n",
    "                # Let it run for a bit\n",
    "                print(\"Running for 5 more seconds...\")\n",
    "                await anyio.sleep(5)\n",
    "\n",
    "                # Cancel to exit\n",
    "                print(\"Cancelling task group...\")\n",
    "                tg.cancel_scope.cancel()\n",
    "\n",
    "    except TimeoutError:\n",
    "        print(\"✗ Test timed out after 30 seconds\")\n",
    "    except Exception as eg:\n",
    "        print(f\"✗ Failed with exception group: {eg}\")\n",
    "        for exc in eg.exceptions:\n",
    "            import traceback\n",
    "            traceback.print_exception(type(exc), exc, exc.__traceback__)\n",
    "    except Exception as e:\n",
    "        print(f\"✗ Failed: {e}\")\n",
    "        import traceback\n",
    "        traceback.print_exc()\n",
    "    finally:\n",
    "        print(\"Test completed\")\n",
    "\n",
    "# Run the async test\n",
    "await test_nest_slam_manager()\n",
    "\n"
   ]
  }
 ],
 "metadata": {
  "kernelspec": {
   "display_name": "test310",
   "language": "python",
   "name": "python3"
  },
  "language_info": {
   "codemirror_mode": {
    "name": "ipython",
    "version": 3
   },
   "file_extension": ".py",
   "mimetype": "text/x-python",
   "name": "python",
   "nbconvert_exporter": "python",
   "pygments_lexer": "ipython3",
   "version": "3.10.18"
  }
 },
 "nbformat": 4,
 "nbformat_minor": 5
}
