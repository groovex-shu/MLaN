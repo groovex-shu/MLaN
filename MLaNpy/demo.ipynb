{
 "cells": [
  {
   "cell_type": "markdown",
   "id": "2646c482",
   "metadata": {},
   "source": [
    "## Test slam_manager"
   ]
  },
  {
   "cell_type": "code",
   "execution_count": 1,
   "id": "1b5d7ebf",
   "metadata": {},
   "outputs": [
    {
     "name": "stdout",
     "output_type": "stream",
     "text": [
      "Environment variable set: /home/gx-shu/My/MLaN/runtime/data/localization\n"
     ]
    }
   ],
   "source": [
    "import os\n",
    "home = os.path.expanduser(\"~\")\n",
    "os.environ['LOCALIZATION_DATA_PATH'] = f'{home}/My/MLaN/runtime/data/localization'\n",
    "\n",
    "print(f\"Environment variable set: {os.environ['LOCALIZATION_DATA_PATH']}\")"
   ]
  },
  {
   "cell_type": "code",
   "execution_count": 2,
   "id": "3611709d",
   "metadata": {},
   "outputs": [],
   "source": [
    "from lovot_slam.slam_manager import SlamManager\n",
    "from contextlib import AsyncExitStack\n",
    "import anyio\n",
    "\n",
    "# Create a minimal test subclass\n",
    "class TestSlamManager(SlamManager):\n",
    "    async def process_command(self, req: str):\n",
    "        print(f\"Command: {req}\")\n",
    "    \n",
    "    async def _run_main(self):\n",
    "        print(\"Main running...\")\n",
    "        await anyio.sleep(1)\n",
    "    \n",
    "    async def _stop(self):\n",
    "        print(\"Stopping...\")\n",
    "    \n",
    "    async def _setup_context(self, stack: AsyncExitStack):\n",
    "        print(\"Setup context\")\n",
    "\n"
   ]
  },
  {
   "cell_type": "code",
   "execution_count": 4,
   "id": "eef79a80",
   "metadata": {},
   "outputs": [
    {
     "name": "stdout",
     "output_type": "stream",
     "text": [
      "✓ SlamManager instantiated successfully\n",
      "Ghost ID: bobu0be0p7n5c1bjsnm0\n",
      "Parsed: cmd=test_cmd, id=123, args=['arg1', 'arg2']\n"
     ]
    }
   ],
   "source": [
    "# Test instantiation\n",
    "manager = TestSlamManager(debug=True)\n",
    "print(\"✓ SlamManager instantiated successfully\")\n",
    "print(f\"Ghost ID: {manager.ghost_id}\")\n",
    "\n",
    "# Test parse_request\n",
    "cmd, req_id, args = manager.parse_request(\"test_cmd 123 arg1 arg2\")\n",
    "print(f\"Parsed: cmd={cmd}, id={req_id}, args={args}\")\n"
   ]
  },
  {
   "cell_type": "code",
   "execution_count": null,
   "id": "c557e6fb",
   "metadata": {},
   "outputs": [],
   "source": [
    "from lovot_slam.nest_slam_manager import NestSlamManager                                                                                                                                          │ │\n",
    "\n",
    "# Test instantiation                                                                              \n",
    "print(\"Instantiating NestSlamManager...\")                                                         \n",
    "try:                                                                                              \n",
    "    manager = NestSlamManager(debug=True)                                                         \n",
    "    print(\"✓ NestSlamManager instantiated successfully\")                                         \n",
    "    print(f\"Ghost ID: {manager.ghost_id}\")                                                        \n",
    "    print(f\"Model: {manager._model}\")                                                             \n",
    "    print(f\"Can build map: {manager._can_build_map}\")                                             \n",
    "                                                                                                  \n",
    "    # Test parse_request                                                                          \n",
    "    cmd, req_id, args = manager.parse_request(\"build_map 123 test_bag\")                           \n",
    "    print(f\"Parsed: cmd={cmd}, id={req_id}, args={args}\")                                         \n",
    "                                                                                                  \n",
    "except Exception as e:                                                                            \n",
    "    print(f\"✗ Failed to instantiate: {e}\")                                                       \n",
    "    import traceback                                                                              \n",
    "    traceback.print_exc() "
   ]
  }
 ],
 "metadata": {
  "kernelspec": {
   "display_name": "test310",
   "language": "python",
   "name": "python3"
  },
  "language_info": {
   "codemirror_mode": {
    "name": "ipython",
    "version": 3
   },
   "file_extension": ".py",
   "mimetype": "text/x-python",
   "name": "python",
   "nbconvert_exporter": "python",
   "pygments_lexer": "ipython3",
   "version": "3.10.18"
  }
 },
 "nbformat": 4,
 "nbformat_minor": 5
}
